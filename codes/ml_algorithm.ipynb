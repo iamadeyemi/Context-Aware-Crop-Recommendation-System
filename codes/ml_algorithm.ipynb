{
 "cells": [
  {
   "cell_type": "markdown",
   "metadata": {},
   "source": [
    "# Machine Learning Analysis"
   ]
  },
  {
   "cell_type": "code",
   "execution_count": null,
   "metadata": {
    "vscode": {
     "languageId": "plaintext"
    }
   },
   "outputs": [],
   "source": [
    "import pandas as pd\n",
    "import numpy as np\n",
    "from sklearn.model_selection import train_test_split\n",
    "from sklearn.preprocessing import StandardScaler, LabelEncoder\n",
    "from sklearn.ensemble import RandomForestClassifier\n",
    "from sklearn.svm import SVC\n",
    "from xgboost import XGBClassifier\n",
    "from imblearn.over_sampling import SMOTE\n",
    "from sklearn.metrics import accuracy_score, classification_report, confusion_matrix\n",
    "import plotly.figure_factory as ff\n",
    "import plotly.express as px"
   ]
  },
  {
   "cell_type": "code",
   "execution_count": null,
   "metadata": {
    "vscode": {
     "languageId": "plaintext"
    }
   },
   "outputs": [],
   "source": [
    "data = pd.read_csv(\"crop_dataset.csv\")\n",
    "data.head(10)"
   ]
  },
  {
   "cell_type": "code",
   "execution_count": null,
   "metadata": {
    "vscode": {
     "languageId": "plaintext"
    }
   },
   "outputs": [],
   "source": [
    "label_encoder = LabelEncoder()\n",
    "data['Soilcolor'] = label_encoder.fit_transform(data['Soilcolor'])\n",
    "data['label'] = label_encoder.fit_transform(data['label'])"
   ]
  },
  {
   "cell_type": "code",
   "execution_count": null,
   "metadata": {
    "vscode": {
     "languageId": "plaintext"
    }
   },
   "outputs": [],
   "source": [
    "selected_features = [\n",
    "    'Soilcolor', 'Ph', 'K', 'P', 'N', 'Zn', 'S', \n",
    "    'QV2M-W', 'QV2M-Sp', 'QV2M-Su', 'QV2M-Au', \n",
    "    'T2M_MAX-W', 'T2M_MAX-Sp', 'T2M_MAX-Su', \n",
    "    'T2M_MAX-Au', 'T2M_MIN-W', 'T2M_MIN-Sp', \n",
    "    'T2M_MIN-Su', 'T2M_MIN-Au', \n",
    "    'PRECTOTCORR-W', 'PRECTOTCORR-Sp', \n",
    "    'PRECTOTCORR-Su', 'PRECTOTCORR-Au', \n",
    "    'WD10M', 'GWETTOP', 'CLOUD_AMT', \n",
    "    'WS2M_RANGE', 'PS'\n",
    "]\n",
    "X = data[selected_features]\n",
    "y = data['label']"
   ]
  },
  {
   "cell_type": "code",
   "execution_count": null,
   "metadata": {
    "vscode": {
     "languageId": "plaintext"
    }
   },
   "outputs": [],
   "source": [
    "smote = SMOTE(random_state=42)\n",
    "X, y = smote.fit_resample(X, y)"
   ]
  },
  {
   "cell_type": "code",
   "execution_count": null,
   "metadata": {
    "vscode": {
     "languageId": "plaintext"
    }
   },
   "outputs": [],
   "source": [
    "X_train, X_test, y_train, y_test = train_test_split(X, y, test_size=0.2, random_state=42, stratify=y)\n",
    "\n",
    "scaler = StandardScaler()\n",
    "X_train_scaled = scaler.fit_transform(X_train)\n",
    "X_test_scaled = scaler.transform(X_test)"
   ]
  },
  {
   "cell_type": "code",
   "execution_count": null,
   "metadata": {
    "vscode": {
     "languageId": "plaintext"
    }
   },
   "outputs": [],
   "source": [
    "import pandas as pd\n",
    "import numpy as np\n",
    "import plotly.graph_objects as go\n",
    "import plotly.figure_factory as ff\n",
    "import seaborn as sns\n",
    "import matplotlib.pyplot as plt\n",
    "from sklearn.ensemble import RandomForestClassifier\n",
    "from sklearn.metrics import classification_report, accuracy_score, confusion_matrix, roc_curve, auc\n",
    "\n",
    "# Train Random Forest model\n",
    "rf_model = RandomForestClassifier(n_estimators=300, max_depth=50, random_state=42)\n",
    "rf_model.fit(X_train, y_train)\n",
    "\n",
    "# Make predictions\n",
    "y_pred_rf = rf_model.predict(X_test)\n",
    "y_prob_rf = rf_model.predict_proba(X_test)  \n",
    "accuracy_rf = accuracy_score(y_test, y_pred_rf)\n",
    "\n",
    "print(f\"Random Forest Accuracy: {accuracy_rf:.4f}\")\n",
    "\n",
    "report_rf = classification_report(y_test, y_pred_rf, target_names=label_encoder.inverse_transform(np.unique(y)), output_dict=True)\n",
    "\n",
    "report_df_rf = pd.DataFrame(report_rf).transpose()\n",
    "report_df_rf.reset_index(inplace=True)\n",
    "\n",
    "numeric_cols = report_df_rf.select_dtypes(include=[np.number]).columns\n",
    "for col in numeric_cols:\n",
    "    report_df_rf[col] = report_df_rf[col].round(2)\n",
    "\n",
    "fig_table = go.Figure(data=[go.Table(\n",
    "    header=dict(\n",
    "        values=['Metric', 'Precision', 'Recall', 'F1-score', 'Support'],\n",
    "        fill_color='darkblue',\n",
    "        font=dict(color='white', size=14),\n",
    "        align='center'\n",
    "    ),\n",
    "    cells=dict(\n",
    "        values=[report_df_rf[col] for col in report_df_rf.columns],\n",
    "        fill_color=[['lightcyan', 'white'] * (len(report_df_rf) // 2)],\n",
    "        font=dict(color='black', size=12),\n",
    "        align='center'\n",
    "    ))\n",
    "])\n",
    "\n",
    "fig_table.update_layout(title=\"Random Forest Classification Report\", title_x=0.5, title_font=dict(size=20))\n",
    "fig_table.show()\n",
    "\n",
    "cm_rf = confusion_matrix(y_test, y_pred_rf)\n",
    "\n",
    "labels = label_encoder.inverse_transform(np.unique(y))\n",
    "cm_df = pd.DataFrame(cm_rf, index=labels, columns=labels)\n",
    "\n",
    "fig_cm = go.Figure(data=go.Heatmap(\n",
    "    z=cm_df.values,\n",
    "    x=cm_df.columns,\n",
    "    y=cm_df.index,\n",
    "    colorscale=\"rainbow\",  \n",
    "    text=cm_df.values,\n",
    "    texttemplate=\"%{text}\",\n",
    "    hoverinfo=\"text\"\n",
    "))\n",
    "\n",
    "fig_cm.update_layout(\n",
    "    title=\"Confusion Matrix (Random Forest)\",\n",
    "    xaxis=dict(title=\"Predicted Labels\"),\n",
    "    yaxis=dict(title=\"True Labels\"),\n",
    "    width=800,\n",
    "    height=600\n",
    ")\n",
    "\n",
    "fig_cm.show()\n",
    "\n",
    "n_classes = len(np.unique(y))\n",
    "fig_roc = go.Figure()\n",
    "\n",
    "for i in range(n_classes):\n",
    "    fpr, tpr, _ = roc_curve(y_test == i, y_prob_rf[:, i])\n",
    "    roc_auc = auc(fpr, tpr)\n",
    "    \n",
    "    fig_roc.add_trace(go.Scatter(\n",
    "        x=fpr, y=tpr,\n",
    "        mode='lines',\n",
    "        name=f'Class {labels[i]} (AUC = {roc_auc:.2f})',\n",
    "        hoverinfo='x+y+name',\n",
    "    ))\n",
    "\n",
    "fig_roc.add_trace(go.Scatter(\n",
    "    x=[0, 1], y=[0, 1],\n",
    "    mode='lines',\n",
    "    line=dict(dash='dash', color='black'),\n",
    "    name='Random Guess'\n",
    "))\n",
    "\n",
    "fig_roc.update_layout(\n",
    "    title=\"ROC-AUC Curve (Random Forest)\",\n",
    "    xaxis=dict(title=\"False Positive Rate\"),\n",
    "    yaxis=dict(title=\"True Positive Rate\"),\n",
    "    width=900,\n",
    "    height=600,\n",
    "    legend_title=\"Classes\"\n",
    ")\n",
    "\n",
    "fig_roc.show()\n"
   ]
  }
 ],
 "metadata": {
  "language_info": {
   "name": "python"
  }
 },
 "nbformat": 4,
 "nbformat_minor": 2
}
