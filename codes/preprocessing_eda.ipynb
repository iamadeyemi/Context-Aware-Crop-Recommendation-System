{
 "cells": [
  {
   "cell_type": "markdown",
   "metadata": {},
   "source": [
    "# EDA ANALYSIS"
   ]
  },
  {
   "cell_type": "code",
   "execution_count": null,
   "metadata": {
    "vscode": {
     "languageId": "plaintext"
    }
   },
   "outputs": [],
   "source": [
    "import pandas as pd\n",
    "import numpy as np\n",
    "\n",
    "data = pd.read_csv('crop_dataset.csv')\n",
    "\n",
    "print(\"First 5 rows of the dataset:\")\n",
    "\n",
    "data.head()"
   ]
  },
  {
   "cell_type": "code",
   "execution_count": null,
   "metadata": {
    "vscode": {
     "languageId": "plaintext"
    }
   },
   "outputs": [],
   "source": [
    "data.isnull().sum()\n",
    "data.describe()"
   ]
  },
  {
   "cell_type": "code",
   "execution_count": null,
   "metadata": {
    "vscode": {
     "languageId": "plaintext"
    }
   },
   "outputs": [],
   "source": [
    "print(\"\\nMissing values per column:\")\n",
    "data.isnull().sum()"
   ]
  },
  {
   "cell_type": "code",
   "execution_count": null,
   "metadata": {
    "vscode": {
     "languageId": "plaintext"
    }
   },
   "outputs": [],
   "source": [
    "duplicates = data.duplicated().sum()\n",
    "print(f\"\\nNumber of duplicate rows: {duplicates}\")"
   ]
  },
  {
   "cell_type": "code",
   "execution_count": null,
   "metadata": {
    "vscode": {
     "languageId": "plaintext"
    }
   },
   "outputs": [],
   "source": [
    "data['label'].value_counts()"
   ]
  },
  {
   "cell_type": "code",
   "execution_count": null,
   "metadata": {
    "vscode": {
     "languageId": "plaintext"
    }
   },
   "outputs": [],
   "source": [
    "import pandas as pd\n",
    "import plotly.graph_objects as go\n",
    "from plotly.subplots import make_subplots\n",
    "\n",
    "columns = ['N', 'P', 'K', 'T2M_MAX-W', 'QV2M-W', 'Ph', 'PRECTOTCORR-W']\n",
    "titles = [\n",
    "    'Ratio of Nitrogen', \n",
    "    'Ratio of Phosphorous', \n",
    "    'Ratio of Potassium', \n",
    "    'Distribution of Temperature (Winter)', \n",
    "    'Distribution of Humidity (Winter)', \n",
    "    'Distribution of pH', \n",
    "    'Distribution of Rainfall (Winter)'\n",
    "]\n",
    "colors = [\n",
    "    'royalblue', \n",
    "    'orange', \n",
    "    'green', \n",
    "    'red', \n",
    "    'purple', \n",
    "    'cyan', \n",
    "    'magenta'\n",
    "]\n",
    "\n",
    "fig = make_subplots(rows=4, cols=2, subplot_titles=titles)\n",
    "\n",
    "for i, (col, title, color) in enumerate(zip(columns, titles, colors)):\n",
    "    row = i // 2 + 1  \n",
    "    col_idx = i % 2 + 1 \n",
    "    \n",
    "    histogram = go.Histogram(\n",
    "        x=data[col],\n",
    "        name=title,\n",
    "        opacity=0.75,\n",
    "        marker=dict(color=color),\n",
    "        nbinsx=30  \n",
    "    )\n",
    "    \n",
    "    fig.add_trace(histogram, row=row, col=col_idx)\n",
    "\n",
    "fig.update_layout(\n",
    "    title_text='Crop Dataset Distributions',\n",
    "    height=1000,\n",
    "    showlegend=False,\n",
    "    barmode='overlay',\n",
    ")\n",
    "\n",
    "fig.update_traces(hoverinfo='x+y')\n",
    "\n",
    "fig.show()\n"
   ]
  }
 ],
 "metadata": {
  "language_info": {
   "name": "python"
  }
 },
 "nbformat": 4,
 "nbformat_minor": 2
}
